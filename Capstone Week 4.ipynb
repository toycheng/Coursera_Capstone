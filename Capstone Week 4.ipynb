{
    "nbformat_minor": 1, 
    "cells": [
        {
            "source": "## Introduction", 
            "cell_type": "markdown", 
            "metadata": {
                "collapsed": true
            }
        }, 
        {
            "source": "### Business Problem", 
            "cell_type": "markdown", 
            "metadata": {}
        }, 
        {
            "source": "An investor is looking for a property within 20km from the Sydney city centre and prefectly close to train station. Before deciding which location to look at, the investor wants to get more understanding about the charateristics of the communities within 20km radius from the Sydney city centre.", 
            "cell_type": "markdown", 
            "metadata": {}
        }, 
        {
            "source": "### Data", 
            "cell_type": "markdown", 
            "metadata": {}
        }, 
        {
            "source": "We will use  the Foursquare API to obtain the information of railway train station within 20km radius from the Sydney city centre. We will then explore and analyse each railway station by using the explore function to get the most common venue categories, and use this feature to group the railway station into clusters. We will use the k-means clustering algorithm and examine the charateristics of each clusters. We will print each railway staion along with the top 5 most common venues. Finally, We will use the folium library to visualize the railway stations in the Sydney city centre and their emerging cluster.", 
            "cell_type": "markdown", 
            "metadata": {}
        }
    ], 
    "metadata": {
        "kernelspec": {
            "display_name": "Python 3.6", 
            "name": "python3", 
            "language": "python"
        }, 
        "language_info": {
            "mimetype": "text/x-python", 
            "nbconvert_exporter": "python", 
            "version": "3.6.8", 
            "name": "python", 
            "file_extension": ".py", 
            "pygments_lexer": "ipython3", 
            "codemirror_mode": {
                "version": 3, 
                "name": "ipython"
            }
        }
    }, 
    "nbformat": 4
}
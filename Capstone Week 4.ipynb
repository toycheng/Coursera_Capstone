{
    "nbformat_minor": 1, 
    "cells": [
        {
            "source": "### A descrption of the problem and a discussion of the background", 
            "cell_type": "markdown", 
            "metadata": {
                "collapsed": true
            }
        }, 
        {
            "source": "An investor is looking for a property within 20km from the Sydney city centre. Before deciding which location to look at, the investor wants to get more understanding about the charateristics of the communities within 20km radius from the Sydney city centre.", 
            "cell_type": "markdown", 
            "metadata": {}
        }, 
        {
            "source": "### A description of the data and how it will be used to solve the probelm", 
            "cell_type": "markdown", 
            "metadata": {}
        }, 
        {
            "source": "I will use the the Foursquare API to explore neighborhoods of 20km radius around Sydney city centre. I will analyse each neighborhood by using the explore function to get the most common venue categories in each neighborhood, and use this feature to group the neighborhoods into clusters. I will then use the k-means clustering algorithm to complete this task and examine the charateristics of each clusters. I will print each neighborhood along with the top 5 most common venues. Finally, I will use the folium library to visualize the neighborhools in the Sydney city centre and their emerging cluster.", 
            "cell_type": "markdown", 
            "metadata": {}
        }, 
        {
            "execution_count": null, 
            "cell_type": "code", 
            "metadata": {}, 
            "outputs": [], 
            "source": ""
        }
    ], 
    "metadata": {
        "kernelspec": {
            "display_name": "Python 3.6", 
            "name": "python3", 
            "language": "python"
        }, 
        "language_info": {
            "mimetype": "text/x-python", 
            "nbconvert_exporter": "python", 
            "version": "3.6.8", 
            "name": "python", 
            "file_extension": ".py", 
            "pygments_lexer": "ipython3", 
            "codemirror_mode": {
                "version": 3, 
                "name": "ipython"
            }
        }
    }, 
    "nbformat": 4
}